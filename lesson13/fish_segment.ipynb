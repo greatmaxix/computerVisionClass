{
 "cells": [
  {
   "cell_type": "code",
   "execution_count": 6,
   "metadata": {},
   "outputs": [],
   "source": [
    "import os\n",
    "import pandas as pd\n",
    "import cv2\n",
    "import numpy as np"
   ]
  },
  {
   "cell_type": "code",
   "execution_count": 19,
   "metadata": {},
   "outputs": [],
   "source": [
    "bss = 'fishes/Black Sea Sprat/'\n",
    "bssgt = 'fishes/Black Sea Sprat GT/'\n",
    "\n",
    "allbss = os.listdir(bss)\n",
    "allgt = os.listdir(bssgt)\n",
    "\n",
    "bssindex = int(len(allbss)*0.8)\n",
    "gtindex = int(len(allgt)*0.8)\n",
    "\n",
    "trainbss = allbss[:bssindex]\n",
    "testbss = allbss[bssindex:]\n",
    "\n",
    "traingt = allgt[:gtindex]\n",
    "testgt = allgt[gtindex:]\n",
    "\n",
    "!mkdir -p fish/train/bss\n",
    "!mkdir -p fish/train/gt\n",
    "\n",
    "!mkdir -p fish/test/bss\n",
    "!mkdir -p fish/test/gt\n",
    "\n",
    "import shutil\n",
    "for i in range(len(trainbss)):\n",
    "    shutil.copy(bss+trainbss[i], 'fish/train/bss/'+trainbss[i])\n",
    "\n",
    "for i in range(len(traingt)):\n",
    "    shutil.copy(bssgt+traingt[i], 'fish/train/gt/'+traingt[i])\n",
    "\n",
    "for i in range(len(testbss)):\n",
    "    shutil.copy(bss+testbss[i], 'fish/test/bss/'+testbss[i])\n",
    "\n",
    "for i in range(len(testgt)):\n",
    "    shutil.copy(bssgt+testgt[i], 'fish/test/gt/'+testgt[i])"
   ]
  },
  {
   "cell_type": "code",
   "execution_count": 11,
   "metadata": {},
   "outputs": [],
   "source": [
    "directory = 'fish/train/'\n",
    "train_files = []\n",
    "target_files = []\n",
    "mask = []\n",
    "img = []\n",
    "fish_types = 'Black Sea Sprat'\n",
    "\n",
    "for file in os.listdir(os.path.join(directory, fish_types)):\n",
    "    train_files.append(os.path.join(directory, 'Black Sea Sprat', file))\n",
    "    target_files.append(os.path.join(directory,  'Black Sea Sprat GT', file))\n",
    "    origImage = cv2.imread(os.path.join(directory,  'Black Sea Sprat GT', file))\n",
    "    img.append(origImage)\n",
    "\n",
    "    origImage = cv2.cvtColor(origImage, cv2.COLOR_BGR2GRAY)\n",
    "    origImage = (origImage ) \n",
    "    mask.append(origImage**2)"
   ]
  },
  {
   "cell_type": "code",
   "execution_count": 13,
   "metadata": {},
   "outputs": [
    {
     "data": {
      "text/html": [
       "<div>\n",
       "<style scoped>\n",
       "    .dataframe tbody tr th:only-of-type {\n",
       "        vertical-align: middle;\n",
       "    }\n",
       "\n",
       "    .dataframe tbody tr th {\n",
       "        vertical-align: top;\n",
       "    }\n",
       "\n",
       "    .dataframe thead th {\n",
       "        text-align: right;\n",
       "    }\n",
       "</style>\n",
       "<table border=\"1\" class=\"dataframe\">\n",
       "  <thead>\n",
       "    <tr style=\"text-align: right;\">\n",
       "      <th></th>\n",
       "      <th>img</th>\n",
       "      <th>mask</th>\n",
       "      <th>mask_2</th>\n",
       "      <th>img_2</th>\n",
       "    </tr>\n",
       "  </thead>\n",
       "  <tbody>\n",
       "    <tr>\n",
       "      <th>0</th>\n",
       "      <td>fish/train/Black Sea Sprat/00780.png</td>\n",
       "      <td>fish/train/Black Sea Sprat GT/00780.png</td>\n",
       "      <td>[[0, 0, 0, 0, 0, 0, 0, 0, 0, 0, 0, 0, 0, 0, 0,...</td>\n",
       "      <td>[[[0, 0, 0], [0, 0, 0], [0, 0, 0], [0, 0, 0], ...</td>\n",
       "    </tr>\n",
       "    <tr>\n",
       "      <th>1</th>\n",
       "      <td>fish/train/Black Sea Sprat/00476.png</td>\n",
       "      <td>fish/train/Black Sea Sprat GT/00476.png</td>\n",
       "      <td>[[0, 0, 0, 0, 0, 0, 0, 0, 0, 0, 0, 0, 0, 0, 0,...</td>\n",
       "      <td>[[[0, 0, 0], [0, 0, 0], [0, 0, 0], [0, 0, 0], ...</td>\n",
       "    </tr>\n",
       "    <tr>\n",
       "      <th>2</th>\n",
       "      <td>fish/train/Black Sea Sprat/00394.png</td>\n",
       "      <td>fish/train/Black Sea Sprat GT/00394.png</td>\n",
       "      <td>[[0, 0, 0, 0, 0, 0, 0, 0, 0, 0, 0, 0, 0, 0, 0,...</td>\n",
       "      <td>[[[0, 0, 0], [0, 0, 0], [0, 0, 0], [0, 0, 0], ...</td>\n",
       "    </tr>\n",
       "    <tr>\n",
       "      <th>3</th>\n",
       "      <td>fish/train/Black Sea Sprat/00333.png</td>\n",
       "      <td>fish/train/Black Sea Sprat GT/00333.png</td>\n",
       "      <td>[[0, 0, 0, 0, 0, 0, 0, 0, 0, 0, 0, 0, 0, 0, 0,...</td>\n",
       "      <td>[[[0, 0, 0], [0, 0, 0], [0, 0, 0], [0, 0, 0], ...</td>\n",
       "    </tr>\n",
       "    <tr>\n",
       "      <th>4</th>\n",
       "      <td>fish/train/Black Sea Sprat/00369.png</td>\n",
       "      <td>fish/train/Black Sea Sprat GT/00369.png</td>\n",
       "      <td>[[0, 0, 0, 0, 0, 0, 0, 0, 0, 0, 0, 0, 0, 0, 0,...</td>\n",
       "      <td>[[[0, 0, 0], [0, 0, 0], [0, 0, 0], [0, 0, 0], ...</td>\n",
       "    </tr>\n",
       "  </tbody>\n",
       "</table>\n",
       "</div>"
      ],
      "text/plain": [
       "                                    img  \\\n",
       "0  fish/train/Black Sea Sprat/00780.png   \n",
       "1  fish/train/Black Sea Sprat/00476.png   \n",
       "2  fish/train/Black Sea Sprat/00394.png   \n",
       "3  fish/train/Black Sea Sprat/00333.png   \n",
       "4  fish/train/Black Sea Sprat/00369.png   \n",
       "\n",
       "                                      mask  \\\n",
       "0  fish/train/Black Sea Sprat GT/00780.png   \n",
       "1  fish/train/Black Sea Sprat GT/00476.png   \n",
       "2  fish/train/Black Sea Sprat GT/00394.png   \n",
       "3  fish/train/Black Sea Sprat GT/00333.png   \n",
       "4  fish/train/Black Sea Sprat GT/00369.png   \n",
       "\n",
       "                                              mask_2  \\\n",
       "0  [[0, 0, 0, 0, 0, 0, 0, 0, 0, 0, 0, 0, 0, 0, 0,...   \n",
       "1  [[0, 0, 0, 0, 0, 0, 0, 0, 0, 0, 0, 0, 0, 0, 0,...   \n",
       "2  [[0, 0, 0, 0, 0, 0, 0, 0, 0, 0, 0, 0, 0, 0, 0,...   \n",
       "3  [[0, 0, 0, 0, 0, 0, 0, 0, 0, 0, 0, 0, 0, 0, 0,...   \n",
       "4  [[0, 0, 0, 0, 0, 0, 0, 0, 0, 0, 0, 0, 0, 0, 0,...   \n",
       "\n",
       "                                               img_2  \n",
       "0  [[[0, 0, 0], [0, 0, 0], [0, 0, 0], [0, 0, 0], ...  \n",
       "1  [[[0, 0, 0], [0, 0, 0], [0, 0, 0], [0, 0, 0], ...  \n",
       "2  [[[0, 0, 0], [0, 0, 0], [0, 0, 0], [0, 0, 0], ...  \n",
       "3  [[[0, 0, 0], [0, 0, 0], [0, 0, 0], [0, 0, 0], ...  \n",
       "4  [[[0, 0, 0], [0, 0, 0], [0, 0, 0], [0, 0, 0], ...  "
      ]
     },
     "execution_count": 13,
     "metadata": {},
     "output_type": "execute_result"
    }
   ],
   "source": [
    "df_train = pd.DataFrame({'img' : train_files, 'mask' : target_files, 'mask_2' : mask, 'img_2': img})\n",
    "df_train.head()"
   ]
  },
  {
   "cell_type": "code",
   "execution_count": 7,
   "metadata": {},
   "outputs": [],
   "source": [
    "directory = 'fish/test/'\n",
    "test_files = []\n",
    "target_test_files = []\n",
    "mask = []\n",
    "img = []\n",
    "fish_types = 'Black Sea Sprat'\n",
    "for file in os.listdir(os.path.join(directory, fish_types)):\n",
    "    test_files.append(os.path.join(directory, 'Black Sea Sprat', file))\n",
    "    target_test_files.append(os.path.join(directory,  'Black Sea Sprat GT', file))\n",
    "\n",
    "    origImage = cv2.imread(os.path.join(directory,  'Black Sea Sprat GT', file))\n",
    "    img.append(origImage)\n",
    "    origImage = cv2.cvtColor(origImage, cv2.COLOR_BGR2GRAY)\n",
    "    origImage = (origImage ) \n",
    "    mask.append(origImage**2)"
   ]
  },
  {
   "cell_type": "code",
   "execution_count": 8,
   "metadata": {},
   "outputs": [
    {
     "data": {
      "text/html": [
       "<div>\n",
       "<style scoped>\n",
       "    .dataframe tbody tr th:only-of-type {\n",
       "        vertical-align: middle;\n",
       "    }\n",
       "\n",
       "    .dataframe tbody tr th {\n",
       "        vertical-align: top;\n",
       "    }\n",
       "\n",
       "    .dataframe thead th {\n",
       "        text-align: right;\n",
       "    }\n",
       "</style>\n",
       "<table border=\"1\" class=\"dataframe\">\n",
       "  <thead>\n",
       "    <tr style=\"text-align: right;\">\n",
       "      <th></th>\n",
       "      <th>img</th>\n",
       "      <th>mask</th>\n",
       "      <th>mask_2</th>\n",
       "      <th>img_2</th>\n",
       "    </tr>\n",
       "  </thead>\n",
       "  <tbody>\n",
       "    <tr>\n",
       "      <th>0</th>\n",
       "      <td>fish/test/Black Sea Sprat/00940.png</td>\n",
       "      <td>fish/test/Black Sea Sprat GT/00940.png</td>\n",
       "      <td>[[0, 0, 0, 0, 0, 0, 0, 0, 0, 0, 0, 0, 0, 0, 0,...</td>\n",
       "      <td>[[[0, 0, 0], [0, 0, 0], [0, 0, 0], [0, 0, 0], ...</td>\n",
       "    </tr>\n",
       "    <tr>\n",
       "      <th>1</th>\n",
       "      <td>fish/test/Black Sea Sprat/00846.png</td>\n",
       "      <td>fish/test/Black Sea Sprat GT/00846.png</td>\n",
       "      <td>[[0, 0, 0, 0, 0, 0, 0, 0, 0, 0, 0, 0, 0, 0, 0,...</td>\n",
       "      <td>[[[0, 0, 0], [0, 0, 0], [0, 0, 0], [0, 0, 0], ...</td>\n",
       "    </tr>\n",
       "    <tr>\n",
       "      <th>2</th>\n",
       "      <td>fish/test/Black Sea Sprat/00837.png</td>\n",
       "      <td>fish/test/Black Sea Sprat GT/00837.png</td>\n",
       "      <td>[[0, 0, 0, 0, 0, 0, 0, 0, 0, 0, 0, 0, 0, 0, 0,...</td>\n",
       "      <td>[[[0, 0, 0], [0, 0, 0], [0, 0, 0], [0, 0, 0], ...</td>\n",
       "    </tr>\n",
       "    <tr>\n",
       "      <th>3</th>\n",
       "      <td>fish/test/Black Sea Sprat/00943.png</td>\n",
       "      <td>fish/test/Black Sea Sprat GT/00943.png</td>\n",
       "      <td>[[0, 0, 0, 0, 0, 0, 0, 0, 0, 0, 0, 0, 0, 0, 0,...</td>\n",
       "      <td>[[[0, 0, 0], [0, 0, 0], [0, 0, 0], [0, 0, 0], ...</td>\n",
       "    </tr>\n",
       "    <tr>\n",
       "      <th>4</th>\n",
       "      <td>fish/test/Black Sea Sprat/00832.png</td>\n",
       "      <td>fish/test/Black Sea Sprat GT/00832.png</td>\n",
       "      <td>[[0, 0, 0, 0, 0, 0, 0, 0, 0, 0, 0, 0, 0, 0, 0,...</td>\n",
       "      <td>[[[0, 0, 0], [0, 0, 0], [0, 0, 0], [0, 0, 0], ...</td>\n",
       "    </tr>\n",
       "  </tbody>\n",
       "</table>\n",
       "</div>"
      ],
      "text/plain": [
       "                                   img  \\\n",
       "0  fish/test/Black Sea Sprat/00940.png   \n",
       "1  fish/test/Black Sea Sprat/00846.png   \n",
       "2  fish/test/Black Sea Sprat/00837.png   \n",
       "3  fish/test/Black Sea Sprat/00943.png   \n",
       "4  fish/test/Black Sea Sprat/00832.png   \n",
       "\n",
       "                                     mask  \\\n",
       "0  fish/test/Black Sea Sprat GT/00940.png   \n",
       "1  fish/test/Black Sea Sprat GT/00846.png   \n",
       "2  fish/test/Black Sea Sprat GT/00837.png   \n",
       "3  fish/test/Black Sea Sprat GT/00943.png   \n",
       "4  fish/test/Black Sea Sprat GT/00832.png   \n",
       "\n",
       "                                              mask_2  \\\n",
       "0  [[0, 0, 0, 0, 0, 0, 0, 0, 0, 0, 0, 0, 0, 0, 0,...   \n",
       "1  [[0, 0, 0, 0, 0, 0, 0, 0, 0, 0, 0, 0, 0, 0, 0,...   \n",
       "2  [[0, 0, 0, 0, 0, 0, 0, 0, 0, 0, 0, 0, 0, 0, 0,...   \n",
       "3  [[0, 0, 0, 0, 0, 0, 0, 0, 0, 0, 0, 0, 0, 0, 0,...   \n",
       "4  [[0, 0, 0, 0, 0, 0, 0, 0, 0, 0, 0, 0, 0, 0, 0,...   \n",
       "\n",
       "                                               img_2  \n",
       "0  [[[0, 0, 0], [0, 0, 0], [0, 0, 0], [0, 0, 0], ...  \n",
       "1  [[[0, 0, 0], [0, 0, 0], [0, 0, 0], [0, 0, 0], ...  \n",
       "2  [[[0, 0, 0], [0, 0, 0], [0, 0, 0], [0, 0, 0], ...  \n",
       "3  [[[0, 0, 0], [0, 0, 0], [0, 0, 0], [0, 0, 0], ...  \n",
       "4  [[[0, 0, 0], [0, 0, 0], [0, 0, 0], [0, 0, 0], ...  "
      ]
     },
     "execution_count": 8,
     "metadata": {},
     "output_type": "execute_result"
    }
   ],
   "source": [
    "df_test = pd.DataFrame({'img' : test_files, 'mask' : target_test_files, 'mask_2': mask, 'img_2': img})\n",
    "df_test.head()"
   ]
  },
  {
   "cell_type": "code",
   "execution_count": 9,
   "metadata": {},
   "outputs": [],
   "source": [
    "def keras_generator(gen_df, batch_size):\n",
    "    while True:\n",
    "        x_batch = []\n",
    "        y_batch = []\n",
    "        \n",
    "        for i in range(batch_size):\n",
    "            _, __, mask, img, = gen_df.sample(1).values[0]\n",
    "            img = cv2.resize(img, (256, 256))\n",
    "            mask = cv2.resize(mask, (256, 256))\n",
    "            mask =( mask > 0) **2\n",
    "            \n",
    "            x_batch += [img]\n",
    "            y_batch += [mask]\n",
    "\n",
    "        x_batch = np.array(x_batch) / 255.\n",
    "        y_batch = np.array(y_batch)\n",
    "\n",
    "        yield x_batch, np.expand_dims(y_batch, -1)"
   ]
  },
  {
   "cell_type": "code",
   "execution_count": 14,
   "metadata": {},
   "outputs": [
    {
     "data": {
      "text/plain": [
       "(16, 256, 256, 3)"
      ]
     },
     "execution_count": 14,
     "metadata": {},
     "output_type": "execute_result"
    }
   ],
   "source": [
    "for x, y in keras_generator(df_train, 16):\n",
    "    break\n",
    "\n",
    "x.shape"
   ]
  },
  {
   "cell_type": "code",
   "execution_count": 2,
   "metadata": {},
   "outputs": [
    {
     "name": "stderr",
     "output_type": "stream",
     "text": [
      "2022-11-29 20:35:09.765994: I tensorflow/stream_executor/cuda/cuda_gpu_executor.cc:922] could not open file to read NUMA node: /sys/bus/pci/devices/0000:01:00.0/numa_node\n",
      "Your kernel may have been built without NUMA support.\n",
      "2022-11-29 20:35:09.866436: W tensorflow/stream_executor/platform/default/dso_loader.cc:64] Could not load dynamic library 'libcudnn.so.8'; dlerror: libcudnn.so.8: cannot open shared object file: No such file or directory\n",
      "2022-11-29 20:35:09.866529: W tensorflow/core/common_runtime/gpu/gpu_device.cc:1850] Cannot dlopen some GPU libraries. Please make sure the missing libraries mentioned above are installed properly if you would like to use GPU. Follow the guide at https://www.tensorflow.org/install/gpu for how to download and setup the required libraries for your platform.\n",
      "Skipping registering GPU devices...\n",
      "2022-11-29 20:35:09.868939: I tensorflow/core/platform/cpu_feature_guard.cc:151] This TensorFlow binary is optimized with oneAPI Deep Neural Network Library (oneDNN) to use the following CPU instructions in performance-critical operations:  AVX2 FMA\n",
      "To enable them in other operations, rebuild TensorFlow with the appropriate compiler flags.\n"
     ]
    }
   ],
   "source": [
    "import keras\n",
    "from keras.applications.vgg16 import VGG16\n",
    "from keras.models import Model\n",
    "from keras.layers import Dense, GlobalAveragePooling2D, Dropout, UpSampling2D, Conv2D, MaxPooling2D, Activation\n",
    "from keras.layers import Input, Dense\n",
    "\n",
    "inp = Input(shape=(256, 256, 3))\n",
    "\n",
    "conv_1_1 = Conv2D(32, (3, 3), padding='same')(inp)\n",
    "conv_1_1 = Activation('relu')(conv_1_1)\n",
    "\n",
    "conv_1_2 = Conv2D(32, (3, 3), padding='same')(conv_1_1)\n",
    "conv_1_2 = Activation('relu')(conv_1_2)\n",
    "\n",
    "pool_1 = MaxPooling2D(2)(conv_1_2)\n",
    "\n",
    "\n",
    "conv_2_1 = Conv2D(64, (3, 3), padding='same')(pool_1)\n",
    "conv_2_1 = Activation('relu')(conv_2_1)\n",
    "\n",
    "conv_2_2 = Conv2D(64, (3, 3), padding='same')(conv_2_1)\n",
    "conv_2_2 = Activation('relu')(conv_2_2)\n",
    "\n",
    "pool_2 = MaxPooling2D(2)(conv_2_2)\n",
    "\n",
    "\n",
    "conv_3_1 = Conv2D(128, (3, 3), padding='same')(pool_2)\n",
    "conv_3_1 = Activation('relu')(conv_3_1)\n",
    "\n",
    "conv_3_2 = Conv2D(128, (3, 3), padding='same')(conv_3_1)\n",
    "conv_3_2 = Activation('relu')(conv_3_2)\n",
    "\n",
    "pool_3 = MaxPooling2D(2)(conv_3_2)\n",
    "\n",
    "\n",
    "conv_4_1 = Conv2D(256, (3, 3), padding='same')(pool_3)\n",
    "conv_4_1 = Activation('relu')(conv_4_1)\n",
    "\n",
    "conv_4_2 = Conv2D(256, (3, 3), padding='same')(conv_4_1)\n",
    "conv_4_2 = Activation('relu')(conv_4_2)\n",
    "\n",
    "pool_4 = MaxPooling2D(2)(conv_4_2)\n",
    "\n",
    "up_1 = UpSampling2D(2, interpolation='bilinear')(pool_4)\n",
    "conv_up_1_1 = Conv2D(256, (3, 3), padding='same')(up_1)\n",
    "conv_up_1_1 = Activation('relu')(conv_up_1_1)\n",
    "\n",
    "conv_up_1_2 = Conv2D(256, (3, 3), padding='same')(conv_up_1_1)\n",
    "conv_up_1_2 = Activation('relu')(conv_up_1_2)\n",
    "\n",
    "\n",
    "up_2 = UpSampling2D(2, interpolation='bilinear')(conv_up_1_2)\n",
    "conv_up_2_1 = Conv2D(128, (3, 3), padding='same')(up_2)\n",
    "conv_up_2_1 = Activation('relu')(conv_up_2_1)\n",
    "\n",
    "conv_up_2_2 = Conv2D(128, (3, 3), padding='same')(conv_up_2_1)\n",
    "conv_up_2_2 = Activation('relu')(conv_up_2_2)\n",
    "\n",
    "\n",
    "up_3 = UpSampling2D(2, interpolation='bilinear')(conv_up_2_2)\n",
    "conv_up_3_1 = Conv2D(64, (3, 3), padding='same')(up_3)\n",
    "conv_up_3_1 = Activation('relu')(conv_up_3_1)\n",
    "\n",
    "conv_up_3_2 = Conv2D(64, (3, 3), padding='same')(conv_up_3_1)\n",
    "conv_up_3_2 = Activation('relu')(conv_up_3_2)\n",
    "\n",
    "\n",
    "\n",
    "up_4 = UpSampling2D(2, interpolation='bilinear')(conv_up_3_2)\n",
    "conv_up_4_1 = Conv2D(32, (3, 3), padding='same')(up_4)\n",
    "conv_up_4_1 = Activation('relu')(conv_up_4_1)\n",
    "\n",
    "conv_up_4_2 = Conv2D(1, (3, 3), padding='same')(conv_up_4_1)\n",
    "result = Activation('sigmoid')(conv_up_4_2)\n",
    "\n",
    "\n",
    "model = Model(inputs=inp, outputs=result)"
   ]
  },
  {
   "cell_type": "code",
   "execution_count": 123,
   "metadata": {},
   "outputs": [
    {
     "name": "stdout",
     "output_type": "stream",
     "text": [
      "WARNING:tensorflow:`period` argument is deprecated. Please use `save_freq` to specify the frequency in number of batches seen.\n",
      "WARNING:tensorflow:`period` argument is deprecated. Please use `save_freq` to specify the frequency in number of batches seen.\n"
     ]
    },
    {
     "name": "stderr",
     "output_type": "stream",
     "text": [
      "/home/maksat/.local/lib/python3.8/site-packages/keras/optimizer_v2/adam.py:105: UserWarning: The `lr` argument is deprecated, use `learning_rate` instead.\n",
      "  super(Adam, self).__init__(name, **kwargs)\n"
     ]
    }
   ],
   "source": [
    "from tensorflow import keras\n",
    "\n",
    "best_w = keras.callbacks.ModelCheckpoint('fcn_best.h5',\n",
    "                                monitor='val_loss',\n",
    "                                verbose=0,\n",
    "                                save_best_only=True,\n",
    "                                save_weights_only=True,\n",
    "                                mode='auto',\n",
    "                                period=1)\n",
    "\n",
    "last_w = keras.callbacks.ModelCheckpoint('fcn_last.h5',\n",
    "                                monitor='val_loss',\n",
    "                                verbose=0,\n",
    "                                save_best_only=False,\n",
    "                                save_weights_only=True,\n",
    "                                mode='auto',\n",
    "                                period=1)\n",
    "\n",
    "\n",
    "callbacks = [best_w, last_w]\n",
    "\n",
    "\n",
    "\n",
    "adam = keras.optimizers.Adam(lr=0.0001, beta_1=0.9, beta_2=0.999, epsilon=1e-08, decay=0.0)\n",
    "\n",
    "\n",
    "model.compile(adam, 'binary_crossentropy')"
   ]
  },
  {
   "cell_type": "code",
   "execution_count": 124,
   "metadata": {},
   "outputs": [
    {
     "name": "stdout",
     "output_type": "stream",
     "text": [
      "Epoch 1/5\n",
      "100/100 [==============================] - 25s 239ms/step - loss: 0.1826 - val_loss: 0.0192\n",
      "Epoch 2/5\n",
      "100/100 [==============================] - 24s 238ms/step - loss: 0.0156 - val_loss: 0.0157\n",
      "Epoch 3/5\n",
      "100/100 [==============================] - 24s 245ms/step - loss: 0.0135 - val_loss: 0.0134\n",
      "Epoch 4/5\n",
      "100/100 [==============================] - 24s 239ms/step - loss: 0.0120 - val_loss: 0.0121\n",
      "Epoch 5/5\n",
      "100/100 [==============================] - 24s 240ms/step - loss: 0.0109 - val_loss: 0.0123\n"
     ]
    },
    {
     "data": {
      "text/plain": [
       "<keras.callbacks.History at 0x7f812078ed30>"
      ]
     },
     "execution_count": 124,
     "metadata": {},
     "output_type": "execute_result"
    }
   ],
   "source": [
    "batch_size = 16\n",
    "model.fit(keras_generator(df_train, batch_size),\n",
    "              steps_per_epoch=100,\n",
    "              epochs=5,\n",
    "              verbose=1,\n",
    "              callbacks=callbacks,\n",
    "              validation_data=keras_generator(df_test, batch_size),\n",
    "              validation_steps=50,\n",
    "              class_weight=None,\n",
    "              max_queue_size=10,\n",
    "              workers=1,\n",
    "              use_multiprocessing=False,\n",
    "              shuffle=True,\n",
    "              initial_epoch=0)"
   ]
  },
  {
   "cell_type": "code",
   "execution_count": 3,
   "metadata": {},
   "outputs": [],
   "source": [
    "# load weights\n",
    "\n",
    "model = Model(inputs=inp, outputs=result)\n",
    "model.load_weights('fcn_best.h5')"
   ]
  },
  {
   "cell_type": "code",
   "execution_count": 19,
   "metadata": {},
   "outputs": [],
   "source": [
    "for x_test, y_test in keras_generator(df_test, 16):\n",
    "    break\n",
    "\n",
    "pred = model.predict(x_test)"
   ]
  },
  {
   "cell_type": "code",
   "execution_count": 20,
   "metadata": {},
   "outputs": [
    {
     "name": "stdout",
     "output_type": "stream",
     "text": [
      "0.9673564908974112\n"
     ]
    }
   ],
   "source": [
    "import numpy as np\n",
    "\n",
    "target = y_test\n",
    "def dice_coeff(pred, target):\n",
    "    m1 = np.array(pred).flatten()\n",
    "    m2 = np.array(target).flatten()\n",
    "\n",
    "    intersection = np.sum(m1 * m2)\n",
    "\n",
    "    return (2. * intersection ) / (m1.sum() + m2.sum() )\n",
    "\n",
    "print(dice_coeff(pred, target))"
   ]
  },
  {
   "cell_type": "code",
   "execution_count": 21,
   "metadata": {},
   "outputs": [
    {
     "data": {
      "text/plain": [
       "0.967356490897409"
      ]
     },
     "execution_count": 21,
     "metadata": {},
     "output_type": "execute_result"
    }
   ],
   "source": [
    "dices = 0\n",
    "for i in range(len(df_test)):\n",
    "    dices = dices + dice_coeff(pred, target)\n",
    "average_dice = dices/len(df_test)\n",
    "\n",
    "average_dice"
   ]
  },
  {
   "cell_type": "code",
   "execution_count": 172,
   "metadata": {},
   "outputs": [],
   "source": [
    "pred.tofile('pred.txt', sep=\" \", format=\"%s\")"
   ]
  },
  {
   "cell_type": "code",
   "execution_count": 27,
   "metadata": {},
   "outputs": [
    {
     "data": {
      "image/png": "[encoded data removed]",
      "text/plain": [
       "<Figure size 432x288 with 1 Axes>"
      ]
     },
     "metadata": {
      "needs_background": "light"
     },
     "output_type": "display_data"
    },
    {
     "data": {
      "image/png": "[encoded data removed]",
      "text/plain": [
       "<Figure size 432x288 with 1 Axes>"
      ]
     },
     "metadata": {
      "needs_background": "light"
     },
     "output_type": "display_data"
    },
    {
     "data": {
      "image/png": "[encoded data removed]",
      "text/plain": [
       "<Figure size 432x288 with 1 Axes>"
      ]
     },
     "metadata": {
      "needs_background": "light"
     },
     "output_type": "display_data"
    },
    {
     "data": {
      "image/png": "[encoded data removed]",
      "text/plain": [
       "<Figure size 432x288 with 1 Axes>"
      ]
     },
     "metadata": {
      "needs_background": "light"
     },
     "output_type": "display_data"
    },
    {
     "data": {
      "image/png": "[encoded data removed]",
      "text/plain": [
       "<Figure size 432x288 with 1 Axes>"
      ]
     },
     "metadata": {
      "needs_background": "light"
     },
     "output_type": "display_data"
    },
    {
     "data": {
      "image/png": "[encoded data removed]",
      "text/plain": [
       "<Figure size 432x288 with 1 Axes>"
      ]
     },
     "metadata": {
      "needs_background": "light"
     },
     "output_type": "display_data"
    },
    {
     "data": {
      "image/png": "[encoded data removed]",
      "text/plain": [
       "<Figure size 432x288 with 1 Axes>"
      ]
     },
     "metadata": {
      "needs_background": "light"
     },
     "output_type": "display_data"
    },
    {
     "data": {
      "image/png": "[encoded data removed]",
      "text/plain": [
       "<Figure size 432x288 with 1 Axes>"
      ]
     },
     "metadata": {
      "needs_background": "light"
     },
     "output_type": "display_data"
    },
    {
     "data": {
      "image/png": "[encoded data removed]",
      "text/plain": [
       "<Figure size 432x288 with 1 Axes>"
      ]
     },
     "metadata": {
      "needs_background": "light"
     },
     "output_type": "display_data"
    },
    {
     "data": {
      "image/png": "[encoded data removed]",
      "text/plain": [
       "<Figure size 432x288 with 1 Axes>"
      ]
     },
     "metadata": {
      "needs_background": "light"
     },
     "output_type": "display_data"
    }
   ],
   "source": [
    "import matplotlib.pyplot as plt\n",
    "\n",
    "for i in range(5):\n",
    "    plt.imshow(target[i])\n",
    "    plt.show()\n",
    "    plt.imshow(pred[i])\n",
    "    plt.show()"
   ]
  }
 ],
 "metadata": {
  "kernelspec": {
   "display_name": "Python 3.8.10 64-bit",
   "language": "python",
   "name": "python3"
  },
  "language_info": {
   "codemirror_mode": {
    "name": "ipython",
    "version": 3
   },
   "file_extension": ".py",
   "mimetype": "text/x-python",
   "name": "python",
   "nbconvert_exporter": "python",
   "pygments_lexer": "ipython3",
   "version": "3.8.10"
  },
  "orig_nbformat": 4,
  "vscode": {
   "interpreter": {
    "hash": "767d51c1340bd893661ea55ea3124f6de3c7a262a8b4abca0554b478b1e2ff90"
   }
  }
 },
 "nbformat": 4,
 "nbformat_minor": 2
}
