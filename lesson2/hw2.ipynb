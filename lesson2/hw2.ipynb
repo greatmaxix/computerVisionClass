{
 "cells": [
  {
   "cell_type": "markdown",
   "metadata": {},
   "source": [
    "### Binarisation"
   ]
  },
  {
   "cell_type": "code",
   "execution_count": 51,
   "metadata": {},
   "outputs": [
    {
     "name": "stdout",
     "output_type": "stream",
     "text": [
      "106.68349692850646\n",
      "152.9139119287712\n",
      "161.9525370777492\n",
      "162.95477706934918\n",
      "163.05385733029965\n",
      "163.16171161101187\n",
      "163.16171161101187\n",
      "[[255 255 255 ... 255 255 255]\n",
      " [255 255 255 ... 255 255 255]\n",
      " [255 255 255 ... 255 255 255]\n",
      " ...\n",
      " [255 255 255 ... 255 255 255]\n",
      " [255 255 255 ... 255 255 255]\n",
      " [255 255 255 ... 255 255 255]]\n",
      "[  0 255]\n"
     ]
    },
    {
     "data": {
      "image/png": "[encoded data removed]",
      "text/plain": [
       "<Figure size 432x288 with 1 Axes>"
      ]
     },
     "metadata": {
      "needs_background": "light"
     },
     "output_type": "display_data"
    }
   ],
   "source": [
    "import cv2 as cv\n",
    "import numpy as np\n",
    "from matplotlib import pyplot as plt\n",
    "import random\n",
    "\n",
    "img = cv.imread('apple.png')\n",
    "img = cv.cvtColor(img, cv.COLOR_BGR2GRAY)\n",
    "\n",
    "def binarisation(img, k):\n",
    "    img_copy = img.copy()\n",
    "    T1 = random.randint(0, 255)\n",
    "\n",
    "    while True:\n",
    "        # segment image by threshold T to G1 and G2\n",
    "        G1 = img_copy[img_copy < T1]\n",
    "        G2 = img_copy[img_copy >= T1]\n",
    "\n",
    "        mean1 = np.mean(G1)\n",
    "        mean2 = np.mean(G2)\n",
    "\n",
    "        T = (mean1 + mean2) / 2\n",
    "        T2 = T1 \n",
    "        T1 = T\n",
    "        print(T)\n",
    "        if abs(T1 - T2) == k:\n",
    "            break\n",
    "\n",
    "    # segment image by threshold T to G1 and G2\n",
    "    G1 = img_copy[img_copy < T]\n",
    "    G2 = img_copy[img_copy >= T]\n",
    "\n",
    "    # set all pixels in G1 to 0 and all pixels in G2 to 255\n",
    "    img_copy[img_copy < T] = 0\n",
    "    img_copy[img_copy >= T] = 255\n",
    "\n",
    "    return img_copy\n",
    "\n",
    "result = binarisation(img, 0)\n",
    "\n",
    "print(result)\n",
    "print(np.unique(result))\n",
    "\n",
    "cv.imwrite('result.png', result)\n",
    "\n",
    "plt.imshow(result, cmap='gray')\n",
    "plt.show()"
   ]
  },
  {
   "cell_type": "code",
   "execution_count": 39,
   "metadata": {},
   "outputs": [],
   "source": [
    "img = cv2.imread('apple.png')\n",
    "pixel_values = img.reshape((-1, 3))\n",
    "\n",
    "# convert to float\n",
    "pixel_values = np.float32(pixel_values)"
   ]
  },
  {
   "cell_type": "code",
   "execution_count": 56,
   "metadata": {},
   "outputs": [],
   "source": [
    "class KMeans():\n",
    "    def __init__(self, k, max_iter=1000, random_state=42):\n",
    "        self.k = k\n",
    "        self.max_iter = max_iter\n",
    "        self.random_state = random_state\n",
    "\n",
    "    def initialize_centroids(self, X):\n",
    "        np.random.RandomState(self.random_state)\n",
    "        random_idx = np.random.permutation(X.shape[0])\n",
    "\n",
    "        centroids = X[random_idx[:self.k]]\n",
    "        return centroids\n",
    "\n",
    "    def compute_centroids(self, X, labels):\n",
    "        centroids = np.zeros((self.k, X.shape[1]))\n",
    "        for k in range(self.k):\n",
    "            centroids[k, :] = np.mean(X[labels == k, :], axis=0)\n",
    "        return centroids\n",
    "\n",
    "    def compute_distance(self, X, centroids):\n",
    "        distance = np.zeros((X.shape[0], self.k))\n",
    "        for k in range(self.k):\n",
    "            row_norm = np.linalg.norm(X - centroids[k, :], axis=1)\n",
    "            distance[:, k] = np.square(row_norm)\n",
    "        return distance\n",
    "\n",
    "    def find_closest_cluster(self, distance):\n",
    "        return np.argmin(distance, axis=1)\n",
    "\n",
    "    def fit(self, X):\n",
    "        self.X = X\n",
    "        self.centroids = self.initialize_centroids(self.X)\n",
    "        for i in range(self.max_iter):\n",
    "            old_centroids = self.centroids\n",
    "            distance = self.compute_distance(self.X, old_centroids)\n",
    "            self.labels = self.find_closest_cluster(distance)\n",
    "            self.centroids = self.compute_centroids(self.X, self.labels)\n",
    "\n",
    "    def classify(self):\n",
    "        distance = self.compute_distance(self.X, self.centroids)\n",
    "        centroid_idx = self.find_closest_cluster(distance)\n",
    "        return centroid_idx\n"
   ]
  },
  {
   "cell_type": "code",
   "execution_count": 69,
   "metadata": {},
   "outputs": [
    {
     "data": {
      "image/png": "[encoded data removed]",
      "text/plain": [
       "<Figure size 432x288 with 1 Axes>"
      ]
     },
     "metadata": {
      "needs_background": "light"
     },
     "output_type": "display_data"
    }
   ],
   "source": [
    "kmeans = KMeans(2, max_iter=30)\n",
    "kmeans.fit(pixel_values)\n",
    "\n",
    "a = kmeans.classify()\n",
    "\n",
    "a = a.reshape(img.shape[0], img.shape[1])\n",
    "plt.imshow(a, cmap='gray')\n",
    "plt.show()\n"
   ]
  }
 ],
 "metadata": {
  "kernelspec": {
   "display_name": "Python 3.8.10 64-bit",
   "language": "python",
   "name": "python3"
  },
  "language_info": {
   "codemirror_mode": {
    "name": "ipython",
    "version": 3
   },
   "file_extension": ".py",
   "mimetype": "text/x-python",
   "name": "python",
   "nbconvert_exporter": "python",
   "pygments_lexer": "ipython3",
   "version": "3.8.10"
  },
  "orig_nbformat": 4,
  "vscode": {
   "interpreter": {
    "hash": "767d51c1340bd893661ea55ea3124f6de3c7a262a8b4abca0554b478b1e2ff90"
   }
  }
 },
 "nbformat": 4,
 "nbformat_minor": 2
}
